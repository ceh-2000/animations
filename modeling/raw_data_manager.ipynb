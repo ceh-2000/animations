{
 "cells": [
  {
   "cell_type": "code",
   "id": "initial_id",
   "metadata": {
    "collapsed": true,
    "ExecuteTime": {
     "end_time": "2025-09-23T14:18:03.262479Z",
     "start_time": "2025-09-23T14:18:03.257683Z"
    }
   },
   "source": [
    "# Imports\n",
    "import os\n",
    "import pandas as pd\n",
    "import matplotlib.pyplot as plt\n",
    "\n",
    "from constants import SAMPLE_LENGTH"
   ],
   "outputs": [],
   "execution_count": 9
  },
  {
   "metadata": {
    "ExecuteTime": {
     "end_time": "2025-09-23T14:18:03.272109Z",
     "start_time": "2025-09-23T14:18:03.270237Z"
    }
   },
   "cell_type": "code",
   "source": [
    "# Specify train or test directories for data generation\n",
    "which_dir = \"test\""
   ],
   "id": "fe59825dd54bca4c",
   "outputs": [],
   "execution_count": 10
  },
  {
   "metadata": {
    "ExecuteTime": {
     "end_time": "2025-09-23T14:18:03.286159Z",
     "start_time": "2025-09-23T14:18:03.283770Z"
    }
   },
   "cell_type": "code",
   "source": [
    "# Directory paths\n",
    "data_dir = f\"raw_{which_dir}_data\"\n",
    "dataset_dir = \"animation_dataset\"\n",
    "figures_dir = \"figures\"\n",
    "train_dir = os.path.join(dataset_dir, \"train\")\n",
    "test_dir = os.path.join(dataset_dir, \"test\")\n",
    "os.makedirs(dataset_dir, exist_ok=True)\n",
    "os.makedirs(train_dir, exist_ok=True)\n",
    "os.makedirs(test_dir, exist_ok=True)\n",
    "os.makedirs(figures_dir, exist_ok=True)"
   ],
   "id": "f52c2fbe042f2f0b",
   "outputs": [],
   "execution_count": 11
  },
  {
   "metadata": {
    "ExecuteTime": {
     "end_time": "2025-09-23T14:18:03.295715Z",
     "start_time": "2025-09-23T14:18:03.293956Z"
    }
   },
   "cell_type": "code",
   "source": [
    "# Specify which directory to generate data for\n",
    "save_dir = train_dir if which_dir == \"train\" else test_dir\n",
    "samples_dir = os.path.join(save_dir, \"samples\")\n",
    "os.makedirs(samples_dir, exist_ok=True)"
   ],
   "id": "2af3406fab992b0f",
   "outputs": [],
   "execution_count": 12
  },
  {
   "metadata": {
    "ExecuteTime": {
     "end_time": "2025-09-23T14:18:03.322346Z",
     "start_time": "2025-09-23T14:18:03.303252Z"
    }
   },
   "cell_type": "code",
   "source": [
    "# Data cleaner\n",
    "# Collect all file paths\n",
    "files = [f for f in os.listdir(data_dir) if f.endswith(\".txt\")]\n",
    "df_lengths = []\n",
    "sample_info_df = pd.DataFrame(columns=[\"effect_name\", \"start_timestamp\"])\n",
    "for file in files:\n",
    "    file_path = os.path.join(data_dir, file)\n",
    "\n",
    "    # Read the CSV\n",
    "    df = pd.read_csv(file_path, parse_dates=[\"timestamp\"])\n",
    "\n",
    "    # Strip whitespace from column names\n",
    "    df.columns = df.columns.str.strip()\n",
    "\n",
    "    # Strip whitespace from string entries (if any)\n",
    "    for col in df.select_dtypes(include=[\"object\"]).columns:\n",
    "        df[col] = df[col].str.strip()\n",
    "\n",
    "    # Convert timestamp to elapsed time in seconds\n",
    "    start_timestamp = df[\"timestamp\"].iloc[0]\n",
    "    df[\"time_s\"] = (df[\"timestamp\"] - start_timestamp).dt.total_seconds()\n",
    "    df = df.drop(columns=[\"timestamp\"])\n",
    "\n",
    "    num_frames = len(df)\n",
    "    df_lengths.append(num_frames)\n",
    "\n",
    "    # Split the dataframe into samples of same length and save\n",
    "    cur_start = 0\n",
    "    num_samples = 1\n",
    "    while cur_start < num_frames:\n",
    "        # File path\n",
    "        timestamp_str = str(start_timestamp)\n",
    "        filename = file.split(\".\")[1].split(\"_\")[0] + \"_\" + timestamp_str + \"_\" + str(num_samples)\n",
    "        save_path = os.path.join(samples_dir, f\"{filename}.csv\")\n",
    "\n",
    "        cur_df = (df[cur_start:cur_start + SAMPLE_LENGTH]).astype(\"float32\")\n",
    "        if len(cur_df) == SAMPLE_LENGTH:\n",
    "            # Save DataFrame\n",
    "            cur_df.to_csv(save_path, index=False)\n",
    "\n",
    "            # Save information about sample\n",
    "            effect_name, sample_number, snippet_number = filename.split(\"_\")\n",
    "            sample_info = {\"effect_name\": effect_name, \"start_timestamp\": timestamp_str, \"snippet_number\": snippet_number}\n",
    "            sample_info_df = pd.concat([sample_info_df, pd.DataFrame([sample_info])], ignore_index=True)\n",
    "\n",
    "        cur_start += SAMPLE_LENGTH\n",
    "        num_samples += 1"
   ],
   "id": "789fa8f2ec0479d3",
   "outputs": [],
   "execution_count": 13
  },
  {
   "metadata": {
    "ExecuteTime": {
     "end_time": "2025-09-23T14:18:03.329967Z",
     "start_time": "2025-09-23T14:18:03.328476Z"
    }
   },
   "cell_type": "code",
   "source": "print(f\"Loaded {len(sample_info_df)} samples from {len(files)} files.\")",
   "id": "1d15b22b757abea0",
   "outputs": [
    {
     "name": "stdout",
     "output_type": "stream",
     "text": [
      "Loaded 7 samples from 3 files.\n"
     ]
    }
   ],
   "execution_count": 14
  },
  {
   "metadata": {
    "ExecuteTime": {
     "end_time": "2025-09-23T14:18:03.337600Z",
     "start_time": "2025-09-23T14:18:03.335785Z"
    }
   },
   "cell_type": "code",
   "source": "sample_info_df.to_csv(os.path.join(save_dir, \"dataset_info.csv\"), index=True)",
   "id": "c331aa8cceec8119",
   "outputs": [],
   "execution_count": 15
  },
  {
   "metadata": {
    "ExecuteTime": {
     "end_time": "2025-09-23T14:18:03.457528Z",
     "start_time": "2025-09-23T14:18:03.343317Z"
    }
   },
   "cell_type": "code",
   "source": [
    "# Plot lengths of samples\n",
    "plt.hist(df_lengths, bins=range(min(df_lengths), max(df_lengths) + 2), edgecolor=\"black\", align=\"left\")\n",
    "\n",
    "plt.xlabel(\"Sample Length\")\n",
    "plt.ylabel(\"Frequency\")\n",
    "plt.title(\"Histogram of Sample Lengths\")\n",
    "\n",
    "plt.tight_layout()\n",
    "plt.savefig(\n",
    "    os.path.join(figures_dir, \"sample_lengths.pdf\"),\n",
    "    bbox_inches=\"tight\"\n",
    ")"
   ],
   "id": "1ce1f19e8fcad7b0",
   "outputs": [
    {
     "data": {
      "text/plain": [
       "<Figure size 640x480 with 1 Axes>"
      ],
      "image/png": "[encoded data removed]"
     },
     "metadata": {},
     "output_type": "display_data"
    }
   ],
   "execution_count": 16
  },
  {
   "metadata": {
    "ExecuteTime": {
     "end_time": "2025-09-23T14:18:03.464879Z",
     "start_time": "2025-09-23T14:18:03.463818Z"
    }
   },
   "cell_type": "code",
   "source": "",
   "id": "11934b2bd55ab422",
   "outputs": [],
   "execution_count": null
  }
 ],
 "metadata": {
  "kernelspec": {
   "display_name": "Python 3",
   "language": "python",
   "name": "python3"
  },
  "language_info": {
   "codemirror_mode": {
    "name": "ipython",
    "version": 2
   },
   "file_extension": ".py",
   "mimetype": "text/x-python",
   "name": "python",
   "nbconvert_exporter": "python",
   "pygments_lexer": "ipython2",
   "version": "2.7.6"
  }
 },
 "nbformat": 4,
 "nbformat_minor": 5
}
