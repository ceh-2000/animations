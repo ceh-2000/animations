{
 "cells": [
  {
   "cell_type": "code",
   "id": "initial_id",
   "metadata": {
    "collapsed": true,
    "ExecuteTime": {
     "end_time": "2025-09-23T10:36:59.769206Z",
     "start_time": "2025-09-23T10:36:58.801790Z"
    }
   },
   "source": [
    "# Imports\n",
    "import os\n",
    "\n",
    "import torch\n",
    "import torch.nn.functional as F\n",
    "import torch.optim as optim\n",
    "from matplotlib import pyplot as plt\n",
    "from torch.utils.data import DataLoader, random_split\n",
    "\n",
    "from AnimationDataset import AnimationDataset\n",
    "from constants import DATASET_INFO_CSV_FILE, DATASET_SAMPLES_DIR, Z_DIM\n",
    "from cvae import CVAE"
   ],
   "outputs": [],
   "execution_count": 1
  },
  {
   "metadata": {
    "ExecuteTime": {
     "end_time": "2025-09-23T10:37:01.367769Z",
     "start_time": "2025-09-23T10:37:01.365317Z"
    }
   },
   "cell_type": "code",
   "source": [
    "# Local constants\n",
    "NUM_EPOCHS = 100\n",
    "MAX_TEST_SAMPLES_TO_VIEW = 4\n",
    "figures_dir = \"figures\"\n",
    "os.makedirs(figures_dir, exist_ok=True)"
   ],
   "id": "b449a93e8e1540b3",
   "outputs": [],
   "execution_count": 2
  },
  {
   "metadata": {
    "ExecuteTime": {
     "end_time": "2025-09-23T10:37:01.549623Z",
     "start_time": "2025-09-23T10:37:01.547540Z"
    }
   },
   "cell_type": "code",
   "source": [
    "# Use for tracking\n",
    "train_losses = []\n",
    "test_losses = []\n",
    "test_samples = []"
   ],
   "id": "6adf5d05a3c3712",
   "outputs": [],
   "execution_count": 3
  },
  {
   "metadata": {
    "ExecuteTime": {
     "end_time": "2025-09-23T10:37:01.792627Z",
     "start_time": "2025-09-23T10:37:01.711077Z"
    }
   },
   "cell_type": "code",
   "source": [
    "# Load dataset\n",
    "dataset = AnimationDataset(DATASET_INFO_CSV_FILE, sample_dir=DATASET_SAMPLES_DIR, transform=None)"
   ],
   "id": "a107347019c086d6",
   "outputs": [],
   "execution_count": 4
  },
  {
   "metadata": {
    "ExecuteTime": {
     "end_time": "2025-09-23T10:37:01.875652Z",
     "start_time": "2025-09-23T10:37:01.874093Z"
    }
   },
   "cell_type": "code",
   "source": [
    "# Determine train-validation split\n",
    "train_size = int(0.8 * len(dataset))\n",
    "validation_size = len(dataset) - train_size"
   ],
   "id": "4d1449854623554",
   "outputs": [],
   "execution_count": 5
  },
  {
   "metadata": {
    "ExecuteTime": {
     "end_time": "2025-09-23T10:37:02.045527Z",
     "start_time": "2025-09-23T10:37:02.040664Z"
    }
   },
   "cell_type": "code",
   "source": [
    "# Load separate train and validation datasets\n",
    "train_dataset, validation_dataset = random_split(dataset, [train_size, validation_size])\n",
    "animation_shape = train_dataset[0][\"animation\"].shape\n",
    "human_input_shape = train_dataset[0][\"human_input\"].shape\n",
    "print(f\"Animation shape: {animation_shape}\")\n",
    "print(f\"Human input shape: {human_input_shape}\")"
   ],
   "id": "8f7a5ec037a037f0",
   "outputs": [
    {
     "name": "stdout",
     "output_type": "stream",
     "text": [
      "Animation shape: torch.Size([150, 2])\n",
      "Human input shape: torch.Size([150, 2])\n"
     ]
    }
   ],
   "execution_count": 6
  },
  {
   "metadata": {
    "ExecuteTime": {
     "end_time": "2025-09-23T10:37:02.204173Z",
     "start_time": "2025-09-23T10:37:02.202495Z"
    }
   },
   "cell_type": "code",
   "source": [
    "# Create DataLoaders\n",
    "train_loader = DataLoader(train_dataset, batch_size=4, shuffle=True, num_workers=0)\n",
    "validation_loader = DataLoader(validation_dataset, batch_size=4, shuffle=False, num_workers=0)"
   ],
   "id": "98d6f76985855f37",
   "outputs": [],
   "execution_count": 7
  },
  {
   "metadata": {
    "ExecuteTime": {
     "end_time": "2025-09-23T10:37:02.367542Z",
     "start_time": "2025-09-23T10:37:02.364923Z"
    }
   },
   "cell_type": "code",
   "source": [
    "# Create new model\n",
    "cvae = CVAE(x_shape=animation_shape, h_dim1=128, h_dim2=64, z_dim=Z_DIM, c_shape=human_input_shape)"
   ],
   "id": "2a66a5d20f00e087",
   "outputs": [],
   "execution_count": 8
  },
  {
   "metadata": {
    "ExecuteTime": {
     "end_time": "2025-09-23T10:37:02.528349Z",
     "start_time": "2025-09-23T10:37:02.526786Z"
    }
   },
   "cell_type": "code",
   "source": [
    "# Move the model to cuda if available\n",
    "if torch.cuda.is_available():\n",
    "    cvae.cuda()"
   ],
   "id": "39bd66c2af8653d1",
   "outputs": [],
   "execution_count": 9
  },
  {
   "metadata": {
    "ExecuteTime": {
     "end_time": "2025-09-23T10:37:03.213979Z",
     "start_time": "2025-09-23T10:37:02.691739Z"
    }
   },
   "cell_type": "code",
   "source": [
    "# Define the optimizer\n",
    "optimizer = optim.Adam(cvae.parameters())"
   ],
   "id": "355e2ce7f817574d",
   "outputs": [],
   "execution_count": 10
  },
  {
   "metadata": {
    "ExecuteTime": {
     "end_time": "2025-09-23T10:37:03.220409Z",
     "start_time": "2025-09-23T10:37:03.218697Z"
    }
   },
   "cell_type": "code",
   "source": [
    "# Compute reconstruction error + KL divergence losses\n",
    "def loss_function(recon_x, x, mu, log_var):\n",
    "    recon_x = recon_x.view(recon_x.size(0), -1)\n",
    "    x = x.view(x.size(0), -1)\n",
    "    MSE = F.mse_loss(recon_x, x, reduction='sum')\n",
    "    KLD = -0.5 * torch.sum(1 + log_var - mu.pow(2) - log_var.exp())\n",
    "    return MSE + KLD"
   ],
   "id": "6d7db1e5cc55056c",
   "outputs": [],
   "execution_count": 11
  },
  {
   "metadata": {
    "ExecuteTime": {
     "end_time": "2025-09-23T10:37:03.226708Z",
     "start_time": "2025-09-23T10:37:03.224275Z"
    }
   },
   "cell_type": "code",
   "source": [
    "# Train model\n",
    "def train(epoch):\n",
    "    cvae.train()\n",
    "    train_loss = 0\n",
    "    for batch_idx, data in enumerate(train_loader):\n",
    "        times, animation, human_input = data[\"times\"], data[\"animation\"], data[\"human_input\"]\n",
    "\n",
    "        if torch.cuda.is_available():\n",
    "            animation, human_input = animation.cuda(), human_input.cuda()\n",
    "\n",
    "        optimizer.zero_grad()\n",
    "\n",
    "        recon_batch, mu, log_var = cvae(animation, human_input)\n",
    "        loss = loss_function(recon_batch, animation, mu, log_var)\n",
    "\n",
    "        loss.backward()\n",
    "        train_loss += loss.item()\n",
    "        optimizer.step()\n",
    "\n",
    "        if batch_idx % 100 == 0:\n",
    "            print('Train Epoch: {} \\tLoss: {:.6f}'.format(epoch, loss.item() / len(animation)))\n",
    "    print('====> Epoch: {} Average loss: {:.4f}'.format(epoch, train_loss / len(train_loader.dataset)))\n",
    "    train_losses.append(round(train_loss / len(train_loader.dataset), 4))"
   ],
   "id": "11e8684dd70b3396",
   "outputs": [],
   "execution_count": 12
  },
  {
   "metadata": {
    "ExecuteTime": {
     "end_time": "2025-09-23T10:37:03.232319Z",
     "start_time": "2025-09-23T10:37:03.230333Z"
    }
   },
   "cell_type": "code",
   "source": [
    "# Evaluate model performance\n",
    "def evaluate(epoch):\n",
    "    cvae.eval()\n",
    "    test_loss = 0\n",
    "    with torch.no_grad():\n",
    "        for data in validation_loader:\n",
    "            times, animation, human_input = data[\"times\"], data[\"animation\"], data[\"human_input\"]\n",
    "\n",
    "            if torch.cuda.is_available():\n",
    "                animation, human_input = animation.cuda(), human_input.cuda()\n",
    "\n",
    "            recon, mu, log_var = cvae(animation, human_input)\n",
    "\n",
    "            if epoch == NUM_EPOCHS and len(test_samples) < MAX_TEST_SAMPLES_TO_VIEW:\n",
    "                test_samples.append(\n",
    "                    {\"times\": times[0], \"original_animation\": animation[0], \"human_input\": human_input[0],\n",
    "                     \"reconstructed_animation\": recon[0]})\n",
    "\n",
    "            # sum up batch loss\n",
    "            test_loss += loss_function(recon, animation, mu, log_var).item()\n",
    "\n",
    "    test_loss /= len(validation_loader.dataset)\n",
    "    print('====> Test set loss: {:.4f}'.format(test_loss))\n",
    "    test_losses.append(round(test_loss, 4))"
   ],
   "id": "9e8939256c4f106f",
   "outputs": [],
   "execution_count": 13
  },
  {
   "metadata": {
    "ExecuteTime": {
     "end_time": "2025-09-23T10:37:10.805746Z",
     "start_time": "2025-09-23T10:37:03.350980Z"
    }
   },
   "cell_type": "code",
   "source": [
    "# Train and evaluate\n",
    "for epoch in range(1, NUM_EPOCHS + 1):\n",
    "    train(epoch)\n",
    "    evaluate(epoch)"
   ],
   "id": "bc1dac6965f968d8",
   "outputs": [
    {
     "name": "stdout",
     "output_type": "stream",
     "text": [
      "Train Epoch: 1 \tLoss: 36.531349\n",
      "====> Epoch: 1 Average loss: 30.1477\n",
      "====> Test set loss: 28.0372\n",
      "Train Epoch: 2 \tLoss: 15.198802\n",
      "====> Epoch: 2 Average loss: 22.6215\n",
      "====> Test set loss: 22.2733\n",
      "Train Epoch: 3 \tLoss: 22.399410\n",
      "====> Epoch: 3 Average loss: 17.1907\n",
      "====> Test set loss: 16.0127\n",
      "Train Epoch: 4 \tLoss: 17.265350\n",
      "====> Epoch: 4 Average loss: 11.6573\n",
      "====> Test set loss: 10.2062\n",
      "Train Epoch: 5 \tLoss: 6.849317\n",
      "====> Epoch: 5 Average loss: 7.5921\n",
      "====> Test set loss: 6.4449\n",
      "Train Epoch: 6 \tLoss: 5.944145\n",
      "====> Epoch: 6 Average loss: 4.5950\n",
      "====> Test set loss: 4.1609\n",
      "Train Epoch: 7 \tLoss: 5.480451\n",
      "====> Epoch: 7 Average loss: 3.1259\n",
      "====> Test set loss: 2.6492\n",
      "Train Epoch: 8 \tLoss: 2.242824\n",
      "====> Epoch: 8 Average loss: 1.8191\n",
      "====> Test set loss: 1.5266\n",
      "Train Epoch: 9 \tLoss: 1.570991\n",
      "====> Epoch: 9 Average loss: 1.2689\n",
      "====> Test set loss: 0.9907\n",
      "Train Epoch: 10 \tLoss: 1.075541\n",
      "====> Epoch: 10 Average loss: 0.9997\n",
      "====> Test set loss: 0.7715\n",
      "Train Epoch: 11 \tLoss: 0.609695\n",
      "====> Epoch: 11 Average loss: 0.6833\n",
      "====> Test set loss: 0.5822\n",
      "Train Epoch: 12 \tLoss: 0.744344\n",
      "====> Epoch: 12 Average loss: 0.5248\n",
      "====> Test set loss: 0.4556\n",
      "Train Epoch: 13 \tLoss: 0.378989\n",
      "====> Epoch: 13 Average loss: 0.4401\n",
      "====> Test set loss: 0.3644\n",
      "Train Epoch: 14 \tLoss: 0.342491\n",
      "====> Epoch: 14 Average loss: 0.3581\n",
      "====> Test set loss: 0.3152\n",
      "Train Epoch: 15 \tLoss: 0.280825\n",
      "====> Epoch: 15 Average loss: 0.3319\n",
      "====> Test set loss: 0.3430\n",
      "Train Epoch: 16 \tLoss: 0.353159\n",
      "====> Epoch: 16 Average loss: 0.3027\n",
      "====> Test set loss: 0.2701\n",
      "Train Epoch: 17 \tLoss: 0.269738\n",
      "====> Epoch: 17 Average loss: 0.2521\n",
      "====> Test set loss: 0.2235\n",
      "Train Epoch: 18 \tLoss: 0.199535\n",
      "====> Epoch: 18 Average loss: 0.2315\n",
      "====> Test set loss: 0.2224\n",
      "Train Epoch: 19 \tLoss: 0.230229\n",
      "====> Epoch: 19 Average loss: 0.2015\n",
      "====> Test set loss: 0.2203\n",
      "Train Epoch: 20 \tLoss: 0.179790\n",
      "====> Epoch: 20 Average loss: 0.1862\n",
      "====> Test set loss: 0.2068\n",
      "Train Epoch: 21 \tLoss: 0.200252\n",
      "====> Epoch: 21 Average loss: 0.1748\n",
      "====> Test set loss: 0.1959\n",
      "Train Epoch: 22 \tLoss: 0.135948\n",
      "====> Epoch: 22 Average loss: 0.1648\n",
      "====> Test set loss: 0.1757\n",
      "Train Epoch: 23 \tLoss: 0.231684\n",
      "====> Epoch: 23 Average loss: 0.1494\n",
      "====> Test set loss: 0.1736\n",
      "Train Epoch: 24 \tLoss: 0.120155\n",
      "====> Epoch: 24 Average loss: 0.1380\n",
      "====> Test set loss: 0.1610\n",
      "Train Epoch: 25 \tLoss: 0.116077\n",
      "====> Epoch: 25 Average loss: 0.1352\n",
      "====> Test set loss: 0.1518\n",
      "Train Epoch: 26 \tLoss: 0.100240\n",
      "====> Epoch: 26 Average loss: 0.1161\n",
      "====> Test set loss: 0.1605\n",
      "Train Epoch: 27 \tLoss: 0.088301\n",
      "====> Epoch: 27 Average loss: 0.1147\n",
      "====> Test set loss: 0.1307\n",
      "Train Epoch: 28 \tLoss: 0.086597\n",
      "====> Epoch: 28 Average loss: 0.1118\n",
      "====> Test set loss: 0.1310\n",
      "Train Epoch: 29 \tLoss: 0.131315\n",
      "====> Epoch: 29 Average loss: 0.1039\n",
      "====> Test set loss: 0.1230\n",
      "Train Epoch: 30 \tLoss: 0.125392\n",
      "====> Epoch: 30 Average loss: 0.1172\n",
      "====> Test set loss: 0.1601\n",
      "Train Epoch: 31 \tLoss: 0.116069\n",
      "====> Epoch: 31 Average loss: 0.1224\n",
      "====> Test set loss: 0.1243\n",
      "Train Epoch: 32 \tLoss: 0.194404\n",
      "====> Epoch: 32 Average loss: 0.1001\n",
      "====> Test set loss: 0.1213\n",
      "Train Epoch: 33 \tLoss: 0.119141\n",
      "====> Epoch: 33 Average loss: 0.0929\n",
      "====> Test set loss: 0.1254\n",
      "Train Epoch: 34 \tLoss: 0.078732\n",
      "====> Epoch: 34 Average loss: 0.0943\n",
      "====> Test set loss: 0.1143\n",
      "Train Epoch: 35 \tLoss: 0.093984\n",
      "====> Epoch: 35 Average loss: 0.0832\n",
      "====> Test set loss: 0.1099\n",
      "Train Epoch: 36 \tLoss: 0.082729\n",
      "====> Epoch: 36 Average loss: 0.0786\n",
      "====> Test set loss: 0.1137\n",
      "Train Epoch: 37 \tLoss: 0.084964\n",
      "====> Epoch: 37 Average loss: 0.0783\n",
      "====> Test set loss: 0.1099\n",
      "Train Epoch: 38 \tLoss: 0.085091\n",
      "====> Epoch: 38 Average loss: 0.0804\n",
      "====> Test set loss: 0.1010\n",
      "Train Epoch: 39 \tLoss: 0.050949\n",
      "====> Epoch: 39 Average loss: 0.0761\n",
      "====> Test set loss: 0.0910\n",
      "Train Epoch: 40 \tLoss: 0.062493\n",
      "====> Epoch: 40 Average loss: 0.0673\n",
      "====> Test set loss: 0.0927\n",
      "Train Epoch: 41 \tLoss: 0.085347\n",
      "====> Epoch: 41 Average loss: 0.0745\n",
      "====> Test set loss: 0.1217\n",
      "Train Epoch: 42 \tLoss: 0.053731\n",
      "====> Epoch: 42 Average loss: 0.0778\n",
      "====> Test set loss: 0.1093\n",
      "Train Epoch: 43 \tLoss: 0.098039\n",
      "====> Epoch: 43 Average loss: 0.0766\n",
      "====> Test set loss: 0.1018\n",
      "Train Epoch: 44 \tLoss: 0.067430\n",
      "====> Epoch: 44 Average loss: 0.0650\n",
      "====> Test set loss: 0.0894\n",
      "Train Epoch: 45 \tLoss: 0.088836\n",
      "====> Epoch: 45 Average loss: 0.0848\n",
      "====> Test set loss: 0.1162\n",
      "Train Epoch: 46 \tLoss: 0.086100\n",
      "====> Epoch: 46 Average loss: 0.0882\n",
      "====> Test set loss: 0.1130\n",
      "Train Epoch: 47 \tLoss: 0.119109\n",
      "====> Epoch: 47 Average loss: 0.0767\n",
      "====> Test set loss: 0.1103\n",
      "Train Epoch: 48 \tLoss: 0.073245\n",
      "====> Epoch: 48 Average loss: 0.0700\n",
      "====> Test set loss: 0.0895\n",
      "Train Epoch: 49 \tLoss: 0.043641\n",
      "====> Epoch: 49 Average loss: 0.0604\n",
      "====> Test set loss: 0.0929\n",
      "Train Epoch: 50 \tLoss: 0.041414\n",
      "====> Epoch: 50 Average loss: 0.0683\n",
      "====> Test set loss: 0.0827\n",
      "Train Epoch: 51 \tLoss: 0.061957\n",
      "====> Epoch: 51 Average loss: 0.0639\n",
      "====> Test set loss: 0.0918\n",
      "Train Epoch: 52 \tLoss: 0.057202\n",
      "====> Epoch: 52 Average loss: 0.0634\n",
      "====> Test set loss: 0.0928\n",
      "Train Epoch: 53 \tLoss: 0.107030\n",
      "====> Epoch: 53 Average loss: 0.0635\n",
      "====> Test set loss: 0.0913\n",
      "Train Epoch: 54 \tLoss: 0.050586\n",
      "====> Epoch: 54 Average loss: 0.0571\n",
      "====> Test set loss: 0.0789\n",
      "Train Epoch: 55 \tLoss: 0.049329\n",
      "====> Epoch: 55 Average loss: 0.0585\n",
      "====> Test set loss: 0.0891\n",
      "Train Epoch: 56 \tLoss: 0.073403\n",
      "====> Epoch: 56 Average loss: 0.0609\n",
      "====> Test set loss: 0.0745\n",
      "Train Epoch: 57 \tLoss: 0.062226\n",
      "====> Epoch: 57 Average loss: 0.0554\n",
      "====> Test set loss: 0.0787\n",
      "Train Epoch: 58 \tLoss: 0.117227\n",
      "====> Epoch: 58 Average loss: 0.0573\n",
      "====> Test set loss: 0.0831\n",
      "Train Epoch: 59 \tLoss: 0.047954\n",
      "====> Epoch: 59 Average loss: 0.0609\n",
      "====> Test set loss: 0.0992\n",
      "Train Epoch: 60 \tLoss: 0.042065\n",
      "====> Epoch: 60 Average loss: 0.0591\n",
      "====> Test set loss: 0.0821\n",
      "Train Epoch: 61 \tLoss: 0.034183\n",
      "====> Epoch: 61 Average loss: 0.0642\n",
      "====> Test set loss: 0.1334\n",
      "Train Epoch: 62 \tLoss: 0.062213\n",
      "====> Epoch: 62 Average loss: 0.0812\n",
      "====> Test set loss: 0.0822\n",
      "Train Epoch: 63 \tLoss: 0.052511\n",
      "====> Epoch: 63 Average loss: 0.0675\n",
      "====> Test set loss: 0.0818\n",
      "Train Epoch: 64 \tLoss: 0.078800\n",
      "====> Epoch: 64 Average loss: 0.0689\n",
      "====> Test set loss: 0.0942\n",
      "Train Epoch: 65 \tLoss: 0.075749\n",
      "====> Epoch: 65 Average loss: 0.0653\n",
      "====> Test set loss: 0.0922\n",
      "Train Epoch: 66 \tLoss: 0.053240\n",
      "====> Epoch: 66 Average loss: 0.0604\n",
      "====> Test set loss: 0.0752\n",
      "Train Epoch: 67 \tLoss: 0.098093\n",
      "====> Epoch: 67 Average loss: 0.0681\n",
      "====> Test set loss: 0.0870\n",
      "Train Epoch: 68 \tLoss: 0.095134\n",
      "====> Epoch: 68 Average loss: 0.0602\n",
      "====> Test set loss: 0.0787\n",
      "Train Epoch: 69 \tLoss: 0.070812\n",
      "====> Epoch: 69 Average loss: 0.0666\n",
      "====> Test set loss: 0.0747\n",
      "Train Epoch: 70 \tLoss: 0.103330\n",
      "====> Epoch: 70 Average loss: 0.0556\n",
      "====> Test set loss: 0.0918\n",
      "Train Epoch: 71 \tLoss: 0.074798\n",
      "====> Epoch: 71 Average loss: 0.0480\n",
      "====> Test set loss: 0.0674\n",
      "Train Epoch: 72 \tLoss: 0.047714\n",
      "====> Epoch: 72 Average loss: 0.0422\n",
      "====> Test set loss: 0.0797\n",
      "Train Epoch: 73 \tLoss: 0.041788\n",
      "====> Epoch: 73 Average loss: 0.0529\n",
      "====> Test set loss: 0.0684\n",
      "Train Epoch: 74 \tLoss: 0.032929\n",
      "====> Epoch: 74 Average loss: 0.0470\n",
      "====> Test set loss: 0.1054\n",
      "Train Epoch: 75 \tLoss: 0.117197\n",
      "====> Epoch: 75 Average loss: 0.0598\n",
      "====> Test set loss: 0.0924\n",
      "Train Epoch: 76 \tLoss: 0.043041\n",
      "====> Epoch: 76 Average loss: 0.0555\n",
      "====> Test set loss: 0.0871\n",
      "Train Epoch: 77 \tLoss: 0.062751\n",
      "====> Epoch: 77 Average loss: 0.0461\n",
      "====> Test set loss: 0.1036\n",
      "Train Epoch: 78 \tLoss: 0.111685\n",
      "====> Epoch: 78 Average loss: 0.0510\n",
      "====> Test set loss: 0.0734\n",
      "Train Epoch: 79 \tLoss: 0.083617\n",
      "====> Epoch: 79 Average loss: 0.0586\n",
      "====> Test set loss: 0.1002\n",
      "Train Epoch: 80 \tLoss: 0.091008\n",
      "====> Epoch: 80 Average loss: 0.0504\n",
      "====> Test set loss: 0.0733\n",
      "Train Epoch: 81 \tLoss: 0.068644\n",
      "====> Epoch: 81 Average loss: 0.0548\n",
      "====> Test set loss: 0.0702\n",
      "Train Epoch: 82 \tLoss: 0.043033\n",
      "====> Epoch: 82 Average loss: 0.0522\n",
      "====> Test set loss: 0.0695\n",
      "Train Epoch: 83 \tLoss: 0.027679\n",
      "====> Epoch: 83 Average loss: 0.0509\n",
      "====> Test set loss: 0.0748\n",
      "Train Epoch: 84 \tLoss: 0.042755\n",
      "====> Epoch: 84 Average loss: 0.0624\n",
      "====> Test set loss: 0.0755\n",
      "Train Epoch: 85 \tLoss: 0.036194\n",
      "====> Epoch: 85 Average loss: 0.0454\n",
      "====> Test set loss: 0.0822\n",
      "Train Epoch: 86 \tLoss: 0.024648\n",
      "====> Epoch: 86 Average loss: 0.0428\n",
      "====> Test set loss: 0.0788\n",
      "Train Epoch: 87 \tLoss: 0.033987\n",
      "====> Epoch: 87 Average loss: 0.0431\n",
      "====> Test set loss: 0.0709\n",
      "Train Epoch: 88 \tLoss: 0.054575\n",
      "====> Epoch: 88 Average loss: 0.0482\n",
      "====> Test set loss: 0.0669\n",
      "Train Epoch: 89 \tLoss: 0.033035\n",
      "====> Epoch: 89 Average loss: 0.0494\n",
      "====> Test set loss: 0.0721\n",
      "Train Epoch: 90 \tLoss: 0.027661\n",
      "====> Epoch: 90 Average loss: 0.0502\n",
      "====> Test set loss: 0.0755\n",
      "Train Epoch: 91 \tLoss: 0.042580\n",
      "====> Epoch: 91 Average loss: 0.0491\n",
      "====> Test set loss: 0.0720\n",
      "Train Epoch: 92 \tLoss: 0.023179\n",
      "====> Epoch: 92 Average loss: 0.0412\n",
      "====> Test set loss: 0.0651\n",
      "Train Epoch: 93 \tLoss: 0.090457\n",
      "====> Epoch: 93 Average loss: 0.0605\n",
      "====> Test set loss: 0.0628\n",
      "Train Epoch: 94 \tLoss: 0.032442\n",
      "====> Epoch: 94 Average loss: 0.0479\n",
      "====> Test set loss: 0.0706\n",
      "Train Epoch: 95 \tLoss: 0.043176\n",
      "====> Epoch: 95 Average loss: 0.0438\n",
      "====> Test set loss: 0.0722\n",
      "Train Epoch: 96 \tLoss: 0.037061\n",
      "====> Epoch: 96 Average loss: 0.0605\n",
      "====> Test set loss: 0.0676\n",
      "Train Epoch: 97 \tLoss: 0.044144\n",
      "====> Epoch: 97 Average loss: 0.0538\n",
      "====> Test set loss: 0.0606\n",
      "Train Epoch: 98 \tLoss: 0.025402\n",
      "====> Epoch: 98 Average loss: 0.0366\n",
      "====> Test set loss: 0.0662\n",
      "Train Epoch: 99 \tLoss: 0.099313\n",
      "====> Epoch: 99 Average loss: 0.0444\n",
      "====> Test set loss: 0.1033\n",
      "Train Epoch: 100 \tLoss: 0.057257\n",
      "====> Epoch: 100 Average loss: 0.0531\n",
      "====> Test set loss: 0.0606\n"
     ]
    }
   ],
   "execution_count": 14
  },
  {
   "metadata": {
    "ExecuteTime": {
     "end_time": "2025-09-23T10:37:10.969495Z",
     "start_time": "2025-09-23T10:37:10.811339Z"
    }
   },
   "cell_type": "code",
   "source": [
    "epochs = range(1, NUM_EPOCHS + 1)\n",
    "plt.figure(figsize=(8, 5))\n",
    "plt.plot(epochs, train_losses, marker='o', label='Train Loss')\n",
    "plt.plot(epochs, test_losses, marker='s', label='Test Loss')\n",
    "plt.xlabel('Epoch')\n",
    "plt.ylabel('Loss')\n",
    "plt.title('Train and Test Losses vs. Epochs')\n",
    "plt.legend()\n",
    "plt.grid(True)\n",
    "plt.tight_layout()\n",
    "plt.savefig(\n",
    "    os.path.join(figures_dir, \"train_and_test_losses_vs_epochs.pdf\"),\n",
    "    bbox_inches=\"tight\"\n",
    ")\n",
    "plt.show()"
   ],
   "id": "159653c93eb1d368",
   "outputs": [
    {
     "data": {
      "text/plain": [
       "<Figure size 800x500 with 1 Axes>"
      ],
      "image/png": "[encoded data removed]"
     },
     "metadata": {},
     "output_type": "display_data"
    }
   ],
   "execution_count": 15
  },
  {
   "metadata": {
    "ExecuteTime": {
     "end_time": "2025-09-23T10:37:10.979546Z",
     "start_time": "2025-09-23T10:37:10.977840Z"
    }
   },
   "cell_type": "code",
   "source": [
    "# Extract the saved samples\n",
    "times, original_animation, human_input, reconstructed_animation = test_samples[0][\"times\"], test_samples[0][\n",
    "    \"original_animation\"], test_samples[0][\"human_input\"], test_samples[0][\"reconstructed_animation\"]\n",
    "\n",
    "print(times.shape, original_animation.shape, human_input.shape, reconstructed_animation.shape)"
   ],
   "id": "738518acdd09f06c",
   "outputs": [
    {
     "name": "stdout",
     "output_type": "stream",
     "text": [
      "torch.Size([150, 1]) torch.Size([150, 2]) torch.Size([150, 2]) torch.Size([150, 2])\n"
     ]
    }
   ],
   "execution_count": 16
  },
  {
   "metadata": {
    "ExecuteTime": {
     "end_time": "2025-09-23T10:37:11.070753Z",
     "start_time": "2025-09-23T10:37:10.990138Z"
    }
   },
   "cell_type": "code",
   "source": [
    "# Plot X, Y for animation trajectories\n",
    "plt.figure(figsize=(8, 6))\n",
    "plt.plot(original_animation[:, 0], original_animation[:, 1], label=\"Original animation\", linewidth=2)\n",
    "plt.plot(human_input[:, 0], human_input[:, 1], label=\"Human input\", linewidth=2)\n",
    "plt.plot(reconstructed_animation[:, 0], reconstructed_animation[:, 1], label=\"Reconstructed animation\", linewidth=2,\n",
    "         linestyle='--')\n",
    "\n",
    "plt.xlabel(\"X\")\n",
    "plt.ylabel(\"Y\")\n",
    "plt.title(\"Animation Trajectories vs. Time\")\n",
    "plt.legend()\n",
    "plt.grid(True)\n",
    "plt.tight_layout()\n",
    "plt.savefig(\n",
    "    os.path.join(figures_dir, \"animation_trajectories_vs_time.pdf\"),\n",
    "    bbox_inches=\"tight\"  # ensures everything fits in the figure\n",
    ")\n",
    "plt.show()"
   ],
   "id": "f684580d6d908cbf",
   "outputs": [
    {
     "data": {
      "text/plain": [
       "<Figure size 800x600 with 1 Axes>"
      ],
      "image/png": "[encoded data removed]"
     },
     "metadata": {},
     "output_type": "display_data"
    }
   ],
   "execution_count": 17
  },
  {
   "metadata": {
    "ExecuteTime": {
     "end_time": "2025-09-23T10:37:11.212335Z",
     "start_time": "2025-09-23T10:37:11.081417Z"
    }
   },
   "cell_type": "code",
   "source": [
    "# Now predict for a brand-new movement path\n",
    "with torch.no_grad():\n",
    "    z = torch.randn(1, Z_DIM).cuda()\n",
    "    # TODO: Change this to condition on human input\n",
    "    c = torch.eye(10).cuda()\n",
    "\n",
    "    sample = cvae.decoder(z, c)\n"
   ],
   "id": "57cab0ec8e94f3c1",
   "outputs": [
    {
     "ename": "AssertionError",
     "evalue": "Torch not compiled with CUDA enabled",
     "output_type": "error",
     "traceback": [
      "\u001B[31m---------------------------------------------------------------------------\u001B[39m",
      "\u001B[31mAssertionError\u001B[39m                            Traceback (most recent call last)",
      "\u001B[36mCell\u001B[39m\u001B[36m \u001B[39m\u001B[32mIn[18]\u001B[39m\u001B[32m, line 3\u001B[39m\n\u001B[32m      1\u001B[39m \u001B[38;5;66;03m# Now predict for a brand-new movement path\u001B[39;00m\n\u001B[32m      2\u001B[39m \u001B[38;5;28;01mwith\u001B[39;00m torch.no_grad():\n\u001B[32m----> \u001B[39m\u001B[32m3\u001B[39m     z = \u001B[43mtorch\u001B[49m\u001B[43m.\u001B[49m\u001B[43mrandn\u001B[49m\u001B[43m(\u001B[49m\u001B[32;43m1\u001B[39;49m\u001B[43m,\u001B[49m\u001B[43m \u001B[49m\u001B[43mZ_DIM\u001B[49m\u001B[43m)\u001B[49m\u001B[43m.\u001B[49m\u001B[43mcuda\u001B[49m\u001B[43m(\u001B[49m\u001B[43m)\u001B[49m\n\u001B[32m      4\u001B[39m     \u001B[38;5;66;03m# TODO: Change this to condition on human input\u001B[39;00m\n\u001B[32m      5\u001B[39m     c = torch.eye(\u001B[32m10\u001B[39m).cuda()\n",
      "\u001B[36mFile \u001B[39m\u001B[32m~/Desktop/phd/animation_gen/modeling/.venv/lib/python3.12/site-packages/torch/cuda/__init__.py:403\u001B[39m, in \u001B[36m_lazy_init\u001B[39m\u001B[34m()\u001B[39m\n\u001B[32m    398\u001B[39m     \u001B[38;5;28;01mraise\u001B[39;00m \u001B[38;5;167;01mRuntimeError\u001B[39;00m(\n\u001B[32m    399\u001B[39m         \u001B[33m\"\u001B[39m\u001B[33mCannot re-initialize CUDA in forked subprocess. To use CUDA with \u001B[39m\u001B[33m\"\u001B[39m\n\u001B[32m    400\u001B[39m         \u001B[33m\"\u001B[39m\u001B[33mmultiprocessing, you must use the \u001B[39m\u001B[33m'\u001B[39m\u001B[33mspawn\u001B[39m\u001B[33m'\u001B[39m\u001B[33m start method\u001B[39m\u001B[33m\"\u001B[39m\n\u001B[32m    401\u001B[39m     )\n\u001B[32m    402\u001B[39m \u001B[38;5;28;01mif\u001B[39;00m \u001B[38;5;129;01mnot\u001B[39;00m \u001B[38;5;28mhasattr\u001B[39m(torch._C, \u001B[33m\"\u001B[39m\u001B[33m_cuda_getDeviceCount\u001B[39m\u001B[33m\"\u001B[39m):\n\u001B[32m--> \u001B[39m\u001B[32m403\u001B[39m     \u001B[38;5;28;01mraise\u001B[39;00m \u001B[38;5;167;01mAssertionError\u001B[39;00m(\u001B[33m\"\u001B[39m\u001B[33mTorch not compiled with CUDA enabled\u001B[39m\u001B[33m\"\u001B[39m)\n\u001B[32m    404\u001B[39m \u001B[38;5;28;01mif\u001B[39;00m _cudart \u001B[38;5;129;01mis\u001B[39;00m \u001B[38;5;28;01mNone\u001B[39;00m:\n\u001B[32m    405\u001B[39m     \u001B[38;5;28;01mraise\u001B[39;00m \u001B[38;5;167;01mAssertionError\u001B[39;00m(\n\u001B[32m    406\u001B[39m         \u001B[33m\"\u001B[39m\u001B[33mlibcudart functions unavailable. It looks like you have a broken build?\u001B[39m\u001B[33m\"\u001B[39m\n\u001B[32m    407\u001B[39m     )\n",
      "\u001B[31mAssertionError\u001B[39m: Torch not compiled with CUDA enabled"
     ]
    }
   ],
   "execution_count": 18
  },
  {
   "metadata": {},
   "cell_type": "code",
   "outputs": [],
   "execution_count": null,
   "source": "",
   "id": "8081f0fe9c1d3788"
  }
 ],
 "metadata": {
  "kernelspec": {
   "display_name": "Python 3",
   "language": "python",
   "name": "python3"
  },
  "language_info": {
   "codemirror_mode": {
    "name": "ipython",
    "version": 2
   },
   "file_extension": ".py",
   "mimetype": "text/x-python",
   "name": "python",
   "nbconvert_exporter": "python",
   "pygments_lexer": "ipython2",
   "version": "2.7.6"
  }
 },
 "nbformat": 4,
 "nbformat_minor": 5
}
